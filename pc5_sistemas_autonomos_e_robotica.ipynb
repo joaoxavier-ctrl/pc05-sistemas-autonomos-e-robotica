{
  "nbformat": 4,
  "nbformat_minor": 0,
  "metadata": {
    "colab": {
      "provenance": [],
      "toc_visible": true
    },
    "kernelspec": {
      "name": "python3",
      "display_name": "Python 3"
    },
    "language_info": {
      "name": "python"
    }
  },
  "cells": [
    {
      "cell_type": "code",
      "source": [
        "import math\n",
        "import numpy as np\n",
        "\n",
        "# Coordenadas de P no referencial {B}\n",
        "P_B = np.array([0, 2, 0])\n",
        "\n",
        "# Ângulo de rotação em graus\n",
        "teta_graus = 30\n",
        "\n",
        "# Converter o ângulo de graus para radianos\n",
        "teta_radianos = math.radians(teta_graus)\n",
        "\n",
        "# Matriz de rotação R_z,θ\n",
        "R_z_teta = np.array([\n",
        "    [math.cos(teta_radianos), -math.sin(teta_radianos), 0],\n",
        "    [math.sin(teta_radianos), math.cos(teta_radianos), 0],\n",
        "    [0, 0, 1]\n",
        "])\n",
        "\n",
        "# Multiplicar a matriz de rotação pela coordenada P_B para obter P_A\n",
        "# np.dot -> função que realiza multiplicao de matrizes\n",
        "P_A = np.dot(R_z_teta, P_B)\n",
        "\n",
        "# Imprimir as coordenadas de P_A\n",
        "print(\"Coordenadas de P_A no referencial {A}:\")\n",
        "print(P_A)"
      ],
      "metadata": {
        "colab": {
          "base_uri": "https://localhost:8080/"
        },
        "id": "uQH6YBp0f-MA",
        "outputId": "61221e2f-3c05-4549-b085-1eb741f886be"
      },
      "execution_count": 14,
      "outputs": [
        {
          "output_type": "stream",
          "name": "stdout",
          "text": [
            "Coordenadas de P_A no referencial {A}:\n",
            "[-1.          1.73205081  0.        ]\n"
          ]
        }
      ]
    }
  ]
}